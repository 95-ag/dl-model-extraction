{
 "cells": [
  {
   "cell_type": "code",
   "execution_count": 1,
   "metadata": {
    "id": "idQmKzBgZqug"
   },
   "outputs": [],
   "source": [
    "import os\n",
    "os.chdir(\"../\")\n",
    "from attacker.ResNet34 import *\n",
    "from attacker.query import *\n",
    "from attacker.utils import *\n",
    "import torchvision\n",
    "\n",
    "set_seed(42)\n",
    "\n",
    "# REF: https://towardsdev.com/implement-resnet-with-pytorch-a9fb40a77448"
   ]
  },
  {
   "cell_type": "code",
   "execution_count": null,
   "metadata": {
    "colab": {
     "base_uri": "https://localhost:8080/",
     "height": 627
    },
    "id": "w_ZCQ7cYYC3N",
    "outputId": "285888da-30cb-44fa-bd78-27276760f19d"
   },
   "outputs": [],
   "source": [
    "# Download and use dataset\n",
    "transform = torchvision.transforms.Compose(\n",
    "    [torchvision.transforms.ToTensor(),\n",
    "     torchvision.transforms.Normalize((0.5, 0.5, 0.5), (0.5, 0.5, 0.5))])\n",
    "if(config[\"victim\"][\"data\"]==CIFAR_10):\n",
    "    trainset = torchvision.datasets.CIFAR10(root='./cifar10', train=True, download=True, transform=transform)\n",
    "    testset = torchvision.datasets.CIFAR10(root='./cifar10', train=False, download=True, transform=transform)\n",
    "elif(config[\"victim\"][\"data\"]==CIFAR_100):\n",
    "    trainset = torchvision.datasets.CIFAR100(root='./cifar100', train=True, download=True, transform=transform)\n",
    "    testset = torchvision.datasets.CIFAR100(root='./cifar100', train=False, download=True, transform=transform)\n",
    "else:\n",
    "    print(\"Dataset not configured\")\n",
    "    \n",
    "# uplaod to data loader\n",
    "trainloader = torch.utils.data.DataLoader(\n",
    "    trainset, batch_size=config['batch_size'], shuffle=True)\n",
    "testloader = torch.utils.data.DataLoader(\n",
    "    testset, batch_size=config['batch_size'], shuffle=False)"
   ]
  },
  {
   "cell_type": "markdown",
   "metadata": {
    "id": "oQzy7ATmsxBy"
   },
   "source": [
    "# Query Victim Model"
   ]
  },
  {
   "cell_type": "markdown",
   "metadata": {},
   "source": [
    "Query Victim Model on Test Dataset using the enitre set"
   ]
  },
  {
   "cell_type": "code",
   "execution_count": null,
   "metadata": {},
   "outputs": [],
   "source": [
    "# query & save test data\n",
    "querytestloader = QueryVictim(config[\"victim\"], testloader, len(testloader.dataset))\n",
    "torch.save(querytestloader, f'attacker/queried_data/{config[\"victim\"][\"data\"]}_queriedtestdataloader.pt')"
   ]
  },
  {
   "cell_type": "markdown",
   "metadata": {},
   "source": [
    "Query Victim Model on Train Data using default config sampling and query size"
   ]
  },
  {
   "cell_type": "code",
   "execution_count": null,
   "metadata": {},
   "outputs": [],
   "source": [
    "# query train data\n",
    "querytrainloader = QueryVictim(config[\"victim\"], trainloader, config[\"query_size\"], sampling=config[\"query_type\"])"
   ]
  },
  {
   "cell_type": "markdown",
   "metadata": {
    "id": "n9SehmoStA7J"
   },
   "source": [
    "# Train Attacker Model on queried data"
   ]
  },
  {
   "cell_type": "code",
   "execution_count": null,
   "metadata": {
    "id": "lMNfr2wZwGMF"
   },
   "outputs": [],
   "source": [
    "# initialize attacker model\n",
    "attacker = ResNet34(3, ResBlock, outputs=10)\n",
    "attacker_loss = torch.nn.CrossEntropyLoss()\n",
    "# train attacker model\n",
    "attacker_result = Training(attacker, querytrainloader, querytestloader, (-1, 3, 32, 32), config[\"epochs\"], optimizer=torch.optim.Adam(\n",
    "    attacker.parameters(), lr=config[\"learning_rate\"]), loss=attacker_loss)\n",
    "# save & visualize model inference\n",
    "percent = SaveVisualize(attacker, attacker_result,  f'Trial-A_R34_{config[\"victim\"][\"model_name\"]}_{config[\"victim\"][\"data\"]}{config[\"query_type\"]}_{config[\"query_size\"]}')\n",
    "results_dict={\"Victim\":config[\"victim\"][\"model_name\"],\n",
    "                \"Dataset\":config[\"victim\"][\"data\"],\n",
    "                \"QueryType\": config[\"query_type\"],\n",
    "                \"QuerySize\": config[\"query_size\"],\n",
    "                \"Attacker\": 'resnet34',\n",
    "                \"Train Loss\": percent[0],\n",
    "                \"Train Accuracy\": percent[1],\n",
    "                \"Test Loss\": percent[2],\n",
    "                \"Test Accuracy\": percent[3]}\n",
    "print(results_dict)"
   ]
  },
  {
   "cell_type": "markdown",
   "metadata": {},
   "source": [
    "# Investigations"
   ]
  },
  {
   "cell_type": "code",
   "execution_count": 2,
   "metadata": {},
   "outputs": [
    {
     "name": "stdout",
     "output_type": "stream",
     "text": [
      "---------------------------------------------------------------------------\n",
      "--------Victim: resnet50 Dataset: cifar_10------------\n",
      "Files already downloaded and verified\n",
      "Files already downloaded and verified\n",
      "Query vgg11_bn victim on cifar_10 dataset with query size 1000\n",
      " 1000 ...\n",
      "Input dataset:10000, Queried dataset:1000\n",
      "----------------------------------\n",
      "---------------Query Type: coreset_cross Query Size: 100-------------------\n",
      "Query resnet50 victim on cifar_10 dataset with query size 100\n",
      " 100 ...\n",
      "Input dataset:50000, Queried dataset:100\n",
      "epoch 1\n",
      "    - train_acc 0.08000 train_loss 3.40425\n",
      "    - test_acc  0.10400 test_loss  2.76477\n",
      "epoch 2\n",
      "    - train_acc 0.40000 train_loss 2.35910\n",
      "    - test_acc  0.05700 test_loss  3.51662\n",
      "epoch 3\n",
      "    - train_acc 0.59000 train_loss 1.51343\n",
      "    - test_acc  0.09700 test_loss  3.01848\n",
      "epoch 4\n",
      "    - train_acc 0.81000 train_loss 0.84185\n",
      "    - test_acc  0.08000 test_loss  3.68979\n",
      "epoch 5\n",
      "    - train_acc 0.93000 train_loss 0.42746\n",
      "    - test_acc  0.09800 test_loss  4.57471\n",
      "epoch 6\n",
      "    - train_acc 0.96000 train_loss 0.30873\n",
      "    - test_acc  0.10700 test_loss  4.42160\n",
      "epoch 7\n",
      "    - train_acc 0.98000 train_loss 0.29892\n",
      "    - test_acc  0.10000 test_loss  5.61012\n",
      "epoch 8\n",
      "    - train_acc 0.99000 train_loss 0.07466\n",
      "    - test_acc  0.09700 test_loss  5.49657\n",
      "epoch 9\n",
      "    - train_acc 1.00000 train_loss 0.05010\n",
      "    - test_acc  0.09900 test_loss  5.53600\n",
      "epoch 10\n",
      "    - train_acc 1.00000 train_loss 0.01694\n",
      "    - test_acc  0.09700 test_loss  4.57715\n"
     ]
    },
    {
     "data": {
      "image/png": "[encoded data removed]",
      "text/plain": [
       "<Figure size 432x288 with 1 Axes>"
      ]
     },
     "metadata": {
      "needs_background": "light"
     },
     "output_type": "display_data"
    },
    {
     "data": {
      "image/png": "[encoded data removed]",
      "text/plain": [
       "<Figure size 432x288 with 1 Axes>"
      ]
     },
     "metadata": {
      "needs_background": "light"
     },
     "output_type": "display_data"
    },
    {
     "name": "stdout",
     "output_type": "stream",
     "text": [
      "{'Victim': 'resnet50', 'Dataset': 'cifar_10', 'QueryType': 'coreset_cross', 'QuerySize': 100, 'Attacker': 'resnet34', 'Train Loss': 0.0169, 'Train Accuracy': 100.0, 'Test Loss': 4.5771, 'Test Accuracy': 9.7}\n",
      "---------------------------------------------------------------------------\n",
      "---------------------------------------------------------------------------\n"
     ]
    }
   ],
   "source": [
    "# Iterate through Model & Dataset\n",
    "Results = []\n",
    "for victim in parameters[\"victim\"]:\n",
    "    print('---------------------------------------------------------------------------')\n",
    "    print(f'--------Victim: {victim[\"model_name\"]} Dataset: {victim[\"data\"]}------------')\n",
    "    # Download and use dataset\n",
    "    transform = torchvision.transforms.Compose(\n",
    "        [torchvision.transforms.ToTensor(),\n",
    "         torchvision.transforms.Normalize((0.5, 0.5, 0.5), (0.5, 0.5, 0.5))])\n",
    "    if(victim[\"data\"]==CIFAR_10):\n",
    "        trainset = torchvision.datasets.CIFAR10(root='./cifar10', train=True, download=True, transform=transform)\n",
    "        testset = torchvision.datasets.CIFAR10(root='./cifar10', train=False, download=True, transform=transform)\n",
    "    elif(victim[\"data\"]==CIFAR_100):\n",
    "        trainset = torchvision.datasets.CIFAR100(root='./cifar100', train=True, download=True, transform=transform)\n",
    "        testset = torchvision.datasets.CIFAR100(root='./cifar100', train=False, download=True, transform=transform)\n",
    "    else:\n",
    "        print(\"Dataset not configured\")\n",
    "\n",
    "    # uplaod to data loader\n",
    "    trainloader = torch.utils.data.DataLoader(\n",
    "        trainset, batch_size=config['batch_size'], shuffle=True)\n",
    "    testloader = torch.utils.data.DataLoader(\n",
    "        testset, batch_size=config['batch_size'], shuffle=False)\n",
    "    \n",
    "    # query test data\n",
    "    querytestloader = QueryVictim(config[\"victim\"], testloader, len(testloader.dataset))\n",
    "    #querytestloader = QueryVictim(config[\"victim\"], testloader, 1000)\n",
    "    \n",
    "    # Iterate Through Query Type\n",
    "    for querytype in parameters[\"query_type\"]:\n",
    "        # Iterate Through Query Size\n",
    "        for size in parameters[\"query_size\"]:\n",
    "            print('----------------------------------')\n",
    "            print(f'---------------Query Type: {querytype} Query Size: {size}-------------------')\n",
    "            # query train data\n",
    "            querytrainloader = QueryVictim(victim, trainloader, size, sampling=querytype)\n",
    "            # initialize attacker model\n",
    "            attacker = ResNet34(3, ResBlock, outputs=10)\n",
    "            attacker_loss = torch.nn.CrossEntropyLoss()\n",
    "            # train attacker model\n",
    "            attacker_result = Training(attacker, querytrainloader, querytestloader, (-1, 3, 32, 32), config[\"epochs\"], optimizer=torch.optim.Adam(\n",
    "                attacker.parameters(), lr=config[\"learning_rate\"]), loss=attacker_loss)\n",
    "            # save & visualize model inference\n",
    "            percent = SaveVisualize(attacker, attacker_result, f'A_R34_{victim[\"model_name\"]}_{victim[\"data\"]}_{querytype}_{size}')\n",
    "            results_dict={\"Victim\":victim[\"model_name\"],\n",
    "                            \"Dataset\":victim[\"data\"],\n",
    "                            \"QueryType\": querytype,\n",
    "                            \"QuerySize\": size,\n",
    "                            \"Attacker\": 'resnet34',\n",
    "                            \"Train Loss\": percent[0],\n",
    "                            \"Train Accuracy\": percent[1],\n",
    "                            \"Test Loss\": percent[2],\n",
    "                            \"Test Accuracy\": percent[3]}\n",
    "\n",
    "            print(results_dict)\n",
    "            Results.append(results_dict)\n",
    "            print('---------------------------------------------------------------------------')\n",
    "            print('---------------------------------------------------------------------------')"
   ]
  },
  {
   "cell_type": "markdown",
   "metadata": {
    "id": "e1GP5NutrOin"
   },
   "source": [
    "\n",
    "# Archived"
   ]
  },
  {
   "cell_type": "markdown",
   "metadata": {},
   "source": [
    "Load querytestloader from file"
   ]
  },
  {
   "cell_type": "code",
   "execution_count": null,
   "metadata": {},
   "outputs": [],
   "source": [
    "# load queried test data\n",
    "querytestloader = torch.load(f'attacker/queried_data/{config[\"victim\"][\"data\"]}_queriedtestdataloader.pt')\n",
    "print(f'Input dataset:{len(testloader.dataset)}, Queried dataset:{len(querytestloader.dataset)}')"
   ]
  },
  {
   "cell_type": "markdown",
   "metadata": {},
   "source": [
    "Testing Time outputs"
   ]
  },
  {
   "cell_type": "code",
   "execution_count": null,
   "metadata": {},
   "outputs": [],
   "source": [
    "with torch.autograd.profiler.profile(use_cuda=True) as prof:\n",
    "    qtl = QueryVictim(trainloader, 1000, sampling='coreset_cross')\n",
    "print(f'Query Time:{prof.key_averages().self_cpu_time_total/1e6}s)"
   ]
  },
  {
   "cell_type": "markdown",
   "metadata": {},
   "source": [
    "Visualize random Images from CIFAR-10"
   ]
  },
  {
   "cell_type": "code",
   "execution_count": null,
   "metadata": {},
   "outputs": [],
   "source": [
    "class_names = ['air_plane', 'car', 'bird', 'cat',\n",
    "               'deer', 'dog', 'frog', 'horse', 'ship', 'truck']\n",
    "# get some random training images\n",
    "plt.figure(figsize=(10, 10))\n",
    "counter = 0\n",
    "for images, labels in trainloader:\n",
    "    for i, img in enumerate(images):\n",
    "        plt.subplot(5, 5, counter+1)\n",
    "        plt.xticks([])\n",
    "        plt.yticks([])\n",
    "        plt.grid(False)\n",
    "        img = img/2 + 0.5   # unmornalize\n",
    "        # convert (C,H,W) to (H,W,C)\n",
    "        img_show = np.transpose(img, (1, 2, 0))\n",
    "        plt.imshow(img_show, cmap=plt.cm.binary)\n",
    "        plt.xlabel(class_names[int(labels[i])], color='red', fontsize='large')\n",
    "        counter += 1\n",
    "        if counter == 25:\n",
    "            break\n",
    "    if counter == 25:\n",
    "        break\n",
    "\n",
    "plt.show()"
   ]
  },
  {
   "cell_type": "markdown",
   "metadata": {},
   "source": [
    "Train a pseudo victim Model"
   ]
  },
  {
   "cell_type": "code",
   "execution_count": null,
   "metadata": {
    "id": "bd0Mm3PG_4Ng"
   },
   "outputs": [],
   "source": [
    "# create victim as resnet34\n",
    "victim = ResNet34(3, ResBlock, outputs=10)\n",
    "victim_loss = torch.nn.CrossEntropyLoss()\n",
    "\n",
    "# train model\n",
    "victim_result = Training(victim, trainloader, testloader, (-1, 3, 32, 32), config[\"epochs\"], optimizer=torch.optim.Adam(\n",
    "    victim.parameters(), lr=config[\"learning_rate\"]), loss=victim_loss)\n",
    "\n",
    "# save model inference\n",
    "torch.save(victim.state_dict(), 'Victim_resnet34')\n",
    "\n",
    "# visualization\n",
    "plots(victim_result, 'Victim-resnet34')"
   ]
  },
  {
   "cell_type": "markdown",
   "metadata": {
    "id": "fo-AfuHO35n4"
   },
   "source": [
    "Load Victim from File"
   ]
  },
  {
   "cell_type": "code",
   "execution_count": null,
   "metadata": {
    "id": "4IzV4WCs34yX"
   },
   "outputs": [],
   "source": [
    "victim = ResNet34(3, ResBlock, outputs=10)\n",
    "victim.load_state_dict(torch.load('Victim_resnet34'))\n",
    "victim.eval()"
   ]
  }
 ],
 "metadata": {
  "accelerator": "GPU",
  "colab": {
   "collapsed_sections": [],
   "name": "DL_Project",
   "provenance": []
  },
  "kernelspec": {
   "display_name": "Python 3",
   "language": "python",
   "name": "python3"
  },
  "language_info": {
   "codemirror_mode": {
    "name": "ipython",
    "version": 3
   },
   "file_extension": ".py",
   "mimetype": "text/x-python",
   "name": "python",
   "nbconvert_exporter": "python",
   "pygments_lexer": "ipython3",
   "version": "3.7.12"
  }
 },
 "nbformat": 4,
 "nbformat_minor": 1
}
